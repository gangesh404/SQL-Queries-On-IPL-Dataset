{
  "nbformat": 4,
  "nbformat_minor": 0,
  "metadata": {
    "colab": {
      "name": "Assessment for DE internship.ipynb",
      "provenance": [],
      "collapsed_sections": []
    },
    "kernelspec": {
      "name": "python3",
      "display_name": "Python 3"
    },
    "language_info": {
      "name": "python"
    }
  },
  "cells": [
    {
      "cell_type": "markdown",
      "source": [
        "# **Section 1:**"
      ],
      "metadata": {
        "id": "1-4gNWJEzS5b"
      }
    },
    {
      "cell_type": "code",
      "execution_count": 1,
      "metadata": {
        "id": "VQWTapNMqngP"
      },
      "outputs": [],
      "source": [
        "# Install java\n",
        "!apt-get install openjdk-8-jdk-headless -qq > /dev/null"
      ]
    },
    {
      "cell_type": "code",
      "source": [
        "# Download apache spark\n",
        "!wget -q https://archive.apache.org/dist/spark/spark-3.2.1/spark-3.2.1-bin-hadoop2.7.tgz"
      ],
      "metadata": {
        "id": "9M2iDbXiq8dE"
      },
      "execution_count": 2,
      "outputs": []
    },
    {
      "cell_type": "code",
      "source": [
        "#unzip file\n",
        "!tar xf spark-3.2.1-bin-hadoop2.7.tgz"
      ],
      "metadata": {
        "id": "qjdcgEksrE8q"
      },
      "execution_count": 3,
      "outputs": []
    },
    {
      "cell_type": "code",
      "source": [
        "# Create environment\n",
        "import os\n",
        "os.environ[\"JAVA_HOME\"] = \"/usr/lib/jvm/java-8-openjdk-amd64\"\n",
        "os.environ[\"SPARK_HOME\"] = \"/content/spark-3.2.1-bin-hadoop2.7\""
      ],
      "metadata": {
        "id": "nmEpq58-rpI0"
      },
      "execution_count": 4,
      "outputs": []
    },
    {
      "cell_type": "code",
      "source": [
        "!pip install -q findspark\n",
        "import findspark\n",
        "findspark.init()"
      ],
      "metadata": {
        "id": "tHW7rqhaDOLK"
      },
      "execution_count": 5,
      "outputs": []
    },
    {
      "cell_type": "code",
      "source": [
        "from pyspark.sql import SparkSession\n",
        "spark = (SparkSession.builder.appName(\"Application\").config(\"spark.some.config.option\", \"some-value\").getOrCreate())"
      ],
      "metadata": {
        "id": "n-7yQs9I7yNs"
      },
      "execution_count": 6,
      "outputs": []
    },
    {
      "cell_type": "code",
      "source": [
        "# Download Dataset\n",
        "!gdown --id 1WbLLhKuUJPGpisBcQNbRccQc6r8FT1TB"
      ],
      "metadata": {
        "colab": {
          "base_uri": "https://localhost:8080/"
        },
        "id": "CDyfRMiiE4RC",
        "outputId": "7000a906-cb4c-4b93-c10a-6ae0d718f951"
      },
      "execution_count": 7,
      "outputs": [
        {
          "output_type": "stream",
          "name": "stdout",
          "text": [
            "Downloading...\n",
            "From: https://drive.google.com/uc?id=1WbLLhKuUJPGpisBcQNbRccQc6r8FT1TB\n",
            "To: /content/ipl_dataset_2.zip\n",
            "\r  0% 0.00/3.09M [00:00<?, ?B/s]\r100% 3.09M/3.09M [00:00<00:00, 65.8MB/s]\n"
          ]
        }
      ]
    },
    {
      "cell_type": "code",
      "source": [
        "# unzip file\n",
        "get_ipython().system_raw('unzip ipl_dataset_2.zip')"
      ],
      "metadata": {
        "id": "4iq-V6oOFEwr"
      },
      "execution_count": 8,
      "outputs": []
    },
    {
      "cell_type": "code",
      "source": [
        "from pyspark.sql.types import *"
      ],
      "metadata": {
        "id": "9hZaiRvWa8AS"
      },
      "execution_count": 9,
      "outputs": []
    },
    {
      "cell_type": "markdown",
      "source": [
        "### IPL Venue"
      ],
      "metadata": {
        "id": "bkDPzoPTRwkJ"
      }
    },
    {
      "cell_type": "code",
      "source": [
        "Cust_schema = StructType()\\\n",
        ".add(\"venue_id\",IntegerType(),True)\\\n",
        ".add(\"venue\",StringType(),True)\\\n",
        ".add(\"city\",StringType(),True)"
      ],
      "metadata": {
        "id": "oC-66Q5eZzms"
      },
      "execution_count": 10,
      "outputs": []
    },
    {
      "cell_type": "code",
      "source": [
        "ipl_venue = spark.read.format(\"csv\").option(\"header\", True).schema(Cust_schema).load(\"ipl_venue.csv\")"
      ],
      "metadata": {
        "id": "1XCRM9snFlNA"
      },
      "execution_count": 11,
      "outputs": []
    },
    {
      "cell_type": "code",
      "source": [
        "ipl_venue.show(3)"
      ],
      "metadata": {
        "colab": {
          "base_uri": "https://localhost:8080/"
        },
        "id": "rW4Cc6oIG4Gc",
        "outputId": "0a14cb3a-82e2-4efa-d540-f3688d8deedb"
      },
      "execution_count": 12,
      "outputs": [
        {
          "output_type": "stream",
          "name": "stdout",
          "text": [
            "+--------+--------------------+-------------+\n",
            "|venue_id|               venue|         city|\n",
            "+--------+--------------------+-------------+\n",
            "|       1|Dr. Y.S. Rajasekh...|Visakhapatnam|\n",
            "|       2|Sharjah Cricket S...|      Sharjah|\n",
            "|       3|JSCA Internationa...|       Ranchi|\n",
            "+--------+--------------------+-------------+\n",
            "only showing top 3 rows\n",
            "\n"
          ]
        }
      ]
    },
    {
      "cell_type": "code",
      "source": [
        "ipl_venue.printSchema()"
      ],
      "metadata": {
        "colab": {
          "base_uri": "https://localhost:8080/"
        },
        "id": "icwPLvKhncCq",
        "outputId": "8cfdab71-1229-4610-efe3-9c3f22bc7f82"
      },
      "execution_count": 13,
      "outputs": [
        {
          "output_type": "stream",
          "name": "stdout",
          "text": [
            "root\n",
            " |-- venue_id: integer (nullable = true)\n",
            " |-- venue: string (nullable = true)\n",
            " |-- city: string (nullable = true)\n",
            "\n"
          ]
        }
      ]
    },
    {
      "cell_type": "markdown",
      "source": [
        "### IPL Matches"
      ],
      "metadata": {
        "id": "nyLCUQybR1Rz"
      }
    },
    {
      "cell_type": "code",
      "source": [
        "Cust_schema = StructType()\\\n",
        ".add(\"match_id\",IntegerType(),True)\\\n",
        ".add(\"date\",DateType(),True)\\\n",
        ".add(\"player_of_match\",StringType(),True)\\\n",
        ".add(\"venue_id\",IntegerType(),True)\\\n",
        ".add(\"neutral_venue\",IntegerType(),True)\\\n",
        ".add(\"team1\",StringType(),True)\\\n",
        ".add(\"team2\",StringType(),True)\\\n",
        ".add(\"toss_winner\",StringType(),True)\\\n",
        ".add(\"toss_decision\",StringType(),True)\\\n",
        ".add(\"winner\",StringType(),True)\\\n",
        ".add(\"result\",StringType(),True)\\\n",
        ".add(\"result_margin\",IntegerType(),True)\\\n",
        ".add(\"eliminator\",StringType(),True)\\\n",
        ".add(\"method\",StringType(),True)\\\n",
        ".add(\"umpire1\",StringType(),True)\\\n",
        ".add(\"umpire2\",StringType(),True)"
      ],
      "metadata": {
        "id": "uAAgnAOF8Yxl"
      },
      "execution_count": 14,
      "outputs": []
    },
    {
      "cell_type": "code",
      "source": [
        "ipl_matches = spark.read.format(\"csv\").option(\"header\", True).schema(Cust_schema).load(\"ipl_matches.csv\")"
      ],
      "metadata": {
        "id": "2jNJ5t5-KVzN"
      },
      "execution_count": 15,
      "outputs": []
    },
    {
      "cell_type": "code",
      "source": [
        "ipl_matches.show(1)"
      ],
      "metadata": {
        "colab": {
          "base_uri": "https://localhost:8080/"
        },
        "id": "J0RLv2FvKhv3",
        "outputId": "e27eef4d-e4db-4eed-8942-1f9f2395af45"
      },
      "execution_count": 16,
      "outputs": [
        {
          "output_type": "stream",
          "name": "stdout",
          "text": [
            "+--------+----------+---------------+--------+-------------+--------------------+--------------------+--------------------+-------------+--------------------+------+-------------+----------+------+---------+-----------+\n",
            "|match_id|      date|player_of_match|venue_id|neutral_venue|               team1|               team2|         toss_winner|toss_decision|              winner|result|result_margin|eliminator|method|  umpire1|    umpire2|\n",
            "+--------+----------+---------------+--------+-------------+--------------------+--------------------+--------------------+-------------+--------------------+------+-------------+----------+------+---------+-----------+\n",
            "|  335982|2008-04-18|    BB McCullum|      35|            0|Royal Challengers...|Kolkata Knight Ri...|Royal Challengers...|        field|Kolkata Knight Ri...|  runs|          140|         N|    NA|Asad Rauf|RE Koertzen|\n",
            "+--------+----------+---------------+--------+-------------+--------------------+--------------------+--------------------+-------------+--------------------+------+-------------+----------+------+---------+-----------+\n",
            "only showing top 1 row\n",
            "\n"
          ]
        }
      ]
    },
    {
      "cell_type": "markdown",
      "source": [
        "### IPL ball by ball"
      ],
      "metadata": {
        "id": "ggXWG-f2R6Ou"
      }
    },
    {
      "cell_type": "code",
      "source": [
        "Cust_schema = StructType()\\\n",
        ".add(\"match_id\",IntegerType(),True)\\\n",
        ".add(\"inning\",IntegerType(),True)\\\n",
        ".add(\"over\",IntegerType(),True)\\\n",
        ".add(\"ball\",IntegerType(),True)\\\n",
        ".add(\"batsman\",StringType(),True)\\\n",
        ".add(\"non_striker\",StringType(),True)\\\n",
        ".add(\"bowler\",StringType(),True)\\\n",
        ".add(\"batsman_runs\",IntegerType(),True)\\\n",
        ".add(\"extra_runs\",IntegerType(),True)\\\n",
        ".add(\"total_runs\",IntegerType(),True)\\\n",
        ".add(\"non_boundary\",IntegerType(),True)\\\n",
        ".add(\"is_wicket\",IntegerType(),True)\\\n",
        ".add(\"dismissal_kind\",StringType(),True)\\\n",
        ".add(\"player_dismissed\",StringType(),True)\\\n",
        ".add(\"fielder\",StringType(),True)\\\n",
        ".add(\"extra_type\",StringType(),True)\\\n",
        ".add(\"batting_team\",StringType(),True)\\\n",
        ".add(\"bowling_team\",StringType(),True)\\"
      ],
      "metadata": {
        "id": "qeKq198OCnvm"
      },
      "execution_count": 17,
      "outputs": []
    },
    {
      "cell_type": "code",
      "source": [
        "ipl_ball_by_ball = spark.read.format(\"csv\").option(\"header\", True).schema(Cust_schema).load(\"ipl_ball_by_ball.csv\")"
      ],
      "metadata": {
        "id": "PLmHU97uLRDT"
      },
      "execution_count": 18,
      "outputs": []
    },
    {
      "cell_type": "code",
      "source": [
        "ipl_ball_by_ball.show(1)"
      ],
      "metadata": {
        "colab": {
          "base_uri": "https://localhost:8080/"
        },
        "id": "qT2yAqsPLo14",
        "outputId": "7b24cf8e-a956-4b31-8b3e-5778dda5a406"
      },
      "execution_count": 19,
      "outputs": [
        {
          "output_type": "stream",
          "name": "stdout",
          "text": [
            "+--------+------+----+----+-------+-------------+------------+------------+----------+----------+------------+---------+--------------+----------------+-------+----------+--------------------+--------------+\n",
            "|match_id|inning|over|ball|batsman|  non_striker|      bowler|batsman_runs|extra_runs|total_runs|non_boundary|is_wicket|dismissal_kind|player_dismissed|fielder|extra_type|        batting_team|  bowling_team|\n",
            "+--------+------+----+----+-------+-------------+------------+------------+----------+----------+------------+---------+--------------+----------------+-------+----------+--------------------+--------------+\n",
            "|  419157|     2|  16|   4|V Kohli|R Vinay Kumar|CRD Fernando|           0|         0|         0|           0|        0|            NA|              NA|     NA|        NA|Royal Challengers...|Mumbai Indians|\n",
            "+--------+------+----+----+-------+-------------+------------+------------+----------+----------+------------+---------+--------------+----------------+-------+----------+--------------------+--------------+\n",
            "only showing top 1 row\n",
            "\n"
          ]
        }
      ]
    },
    {
      "cell_type": "code",
      "source": [
        "ipl_ball_by_ball.createOrReplaceTempView(\"ipl_ball_by_ball\")\n",
        "ipl_matches.createOrReplaceTempView(\"ipl_matches\")\n",
        "ipl_venue.createOrReplaceTempView(\"ipl_venue\")"
      ],
      "metadata": {
        "id": "YTmtLQu8Yfk7"
      },
      "execution_count": 20,
      "outputs": []
    },
    {
      "cell_type": "code",
      "source": [
        "spark.catalog.listTables() "
      ],
      "metadata": {
        "colab": {
          "base_uri": "https://localhost:8080/"
        },
        "id": "VOIS0-R2Jwoq",
        "outputId": "284cb25a-ad72-47f9-99ae-a5adcd66276a"
      },
      "execution_count": 21,
      "outputs": [
        {
          "output_type": "execute_result",
          "data": {
            "text/plain": [
              "[Table(name='ipl_ball_by_ball', database=None, description=None, tableType='TEMPORARY', isTemporary=True),\n",
              " Table(name='ipl_matches', database=None, description=None, tableType='TEMPORARY', isTemporary=True),\n",
              " Table(name='ipl_venue', database=None, description=None, tableType='TEMPORARY', isTemporary=True)]"
            ]
          },
          "metadata": {},
          "execution_count": 21
        }
      ]
    },
    {
      "cell_type": "markdown",
      "source": [
        "# **Section 2:**"
      ],
      "metadata": {
        "id": "fK1A7Zdlzb72"
      }
    },
    {
      "cell_type": "markdown",
      "source": [
        "## 1. Find the top 3 venues which hosted the most number of eliminator matches?"
      ],
      "metadata": {
        "id": "6F-gYEX2Yuqy"
      }
    },
    {
      "cell_type": "code",
      "source": [
        "spark.sql(\"\"\"SELECT V.venue, COUNT(*) Eliminator_matches_count \n",
        "FROM ipl_matches AS M JOIN ipl_venue AS V ON M.venue_id=V.venue_id WHERE M.eliminator='Y'\n",
        "GROUP BY V.venue ORDER BY Eliminator_matches_count DESC\"\"\").show()"
      ],
      "metadata": {
        "colab": {
          "base_uri": "https://localhost:8080/"
        },
        "id": "SlFS6mvJKS38",
        "outputId": "09fccb61-453d-40ea-b05f-e7245262d979"
      },
      "execution_count": 22,
      "outputs": [
        {
          "output_type": "stream",
          "name": "stdout",
          "text": [
            "+--------------------+------------------------+\n",
            "|               venue|Eliminator_matches_count|\n",
            "+--------------------+------------------------+\n",
            "|Dubai Internation...|                       3|\n",
            "|Sheikh Zayed Stadium|                       2|\n",
            "|Sardar Patel Stad...|                       1|\n",
            "|    Feroz Shah Kotla|                       1|\n",
            "|M.Chinnaswamy Sta...|                       1|\n",
            "|            Newlands|                       1|\n",
            "|Rajiv Gandhi Inte...|                       1|\n",
            "|    Wankhede Stadium|                       1|\n",
            "|Saurashtra Cricke...|                       1|\n",
            "|MA Chidambaram St...|                       1|\n",
            "+--------------------+------------------------+\n",
            "\n"
          ]
        }
      ]
    },
    {
      "cell_type": "markdown",
      "source": [
        "## 2. Return most number of catches taken by a player in IPL history?"
      ],
      "metadata": {
        "id": "-cAlmda2Zq9N"
      }
    },
    {
      "cell_type": "code",
      "source": [
        "spark.sql(\"\"\"SELECT B.fielder, COUNT(*) Total_no_of_catches \n",
        "FROM ipl_ball_by_ball B \n",
        "WHERE B.dismissal_kind='caught'\n",
        "GROUP BY B.fielder ORDER BY Total_no_of_catches DESC\"\"\").show()"
      ],
      "metadata": {
        "colab": {
          "base_uri": "https://localhost:8080/"
        },
        "id": "2N2u3rdNNkl3",
        "outputId": "59a85b3f-ce73-451a-ddab-f1b533d30afe"
      },
      "execution_count": 23,
      "outputs": [
        {
          "output_type": "stream",
          "name": "stdout",
          "text": [
            "+--------------+-------------------+\n",
            "|       fielder|Total_no_of_catches|\n",
            "+--------------+-------------------+\n",
            "|    KD Karthik|                118|\n",
            "|      MS Dhoni|                113|\n",
            "|AB de Villiers|                103|\n",
            "|      SK Raina|                 99|\n",
            "|     RG Sharma|                 88|\n",
            "|    RV Uthappa|                 87|\n",
            "|    KA Pollard|                 84|\n",
            "|       V Kohli|                 76|\n",
            "|      S Dhawan|                 73|\n",
            "|     MK Pandey|                 70|\n",
            "|      PA Patel|                 69|\n",
            "|     DA Warner|                 66|\n",
            "|       NV Ojha|                 65|\n",
            "|      DJ Bravo|                 64|\n",
            "|     RA Jadeja|                 63|\n",
            "|       WP Saha|                 62|\n",
            "|     AM Rahane|                 58|\n",
            "|     AT Rayudu|                 56|\n",
            "|  F du Plessis|                 54|\n",
            "|     SV Samson|                 52|\n",
            "+--------------+-------------------+\n",
            "only showing top 20 rows\n",
            "\n"
          ]
        }
      ]
    },
    {
      "cell_type": "markdown",
      "source": [
        "## 3. Write a query to return a report for highest wicket taker in matches which were affected by Duckworth-Lewis’s method (D/L method)."
      ],
      "metadata": {
        "id": "Ebiuo9JdaAYX"
      }
    },
    {
      "cell_type": "code",
      "source": [
        "spark.sql(\"\"\"SELECT CASE B.Fielder WHEN 'NA' THEN B.bowler ELSE B.Fielder END AS wicket_by,\n",
        "COUNT(*) AS highest_wicket_count\n",
        "FROM ipl_ball_by_ball AS B JOIN ipl_matches AS M ON B.match_id=M.match_id \n",
        "WHERE M.method='D/L' AND B.is_wicket=1\n",
        "GROUP BY wicket_by \n",
        "ORDER BY highest_wicket_count DESC\"\"\").show()"
      ],
      "metadata": {
        "colab": {
          "base_uri": "https://localhost:8080/"
        },
        "id": "-_dlaA7aYcj3",
        "outputId": "ae6c72e0-5b18-4e72-83ee-c102619fcc42"
      },
      "execution_count": 24,
      "outputs": [
        {
          "output_type": "stream",
          "name": "stdout",
          "text": [
            "+--------------+--------------------+\n",
            "|     wicket_by|highest_wicket_count|\n",
            "+--------------+--------------------+\n",
            "|   NLTC Perera|                   5|\n",
            "|      MS Dhoni|                   5|\n",
            "|      S Dhawan|                   4|\n",
            "|AB de Villiers|                   4|\n",
            "|    RV Uthappa|                   4|\n",
            "|       KK Nair|                   3|\n",
            "|       M Ntini|                   3|\n",
            "|      AB Dinda|                   3|\n",
            "|    EJG Morgan|                   3|\n",
            "|      DW Steyn|                   3|\n",
            "|       B Kumar|                   3|\n",
            "|     PP Chawla|                   3|\n",
            "|      SA Yadav|                   3|\n",
            "|       RR Pant|                   2|\n",
            "|    JC Buttler|                   2|\n",
            "|     K Gowtham|                   2|\n",
            "|      CH Gayle|                   2|\n",
            "|   BB McCullum|                   2|\n",
            "|    JD Unadkat|                   2|\n",
            "|       NV Ojha|                   2|\n",
            "+--------------+--------------------+\n",
            "only showing top 20 rows\n",
            "\n"
          ]
        }
      ]
    },
    {
      "cell_type": "markdown",
      "source": [
        "## 4. Write a query to return a report for highest strike rate by a batsman in non powerplay overs(7-20 overs) Note: strike rate = (Total Runs scored/Total balls faced by player) *100, Make sure that balls faced by players should be legal delivery (not wide balls or no balls).\n"
      ],
      "metadata": {
        "id": "kMXMZ7T4aFGR"
      }
    },
    {
      "cell_type": "code",
      "source": [
        "spark.sql(\"\"\"SELECT B.batsman,(SUM(B.total_runs)*100)/COUNT(B.batsman) AS highest_strike_rate \n",
        "FROM ipl_ball_by_ball AS B \n",
        "WHERE B.over>5 AND B.extra_type NOT IN ('wides','noballs') \n",
        "GROUP BY B.batsman\n",
        "ORDER BY highest_strike_rate DESC\"\"\").show()"
      ],
      "metadata": {
        "colab": {
          "base_uri": "https://localhost:8080/"
        },
        "id": "CiIY1TndqQWQ",
        "outputId": "720bfe66-0b81-40a5-bea1-4afbdf4b7e0f"
      },
      "execution_count": 25,
      "outputs": [
        {
          "output_type": "stream",
          "name": "stdout",
          "text": [
            "+---------------+-------------------+\n",
            "|        batsman|highest_strike_rate|\n",
            "+---------------+-------------------+\n",
            "|     ER Dwivedi| 255.55555555555554|\n",
            "|     B Stanlake|              250.0|\n",
            "|       Umar Gul| 231.57894736842104|\n",
            "|   Kamran Akmal|  208.1081081081081|\n",
            "|       RS Sodhi|              200.0|\n",
            "|KMDN Kulasekara|              200.0|\n",
            "|     AD Russell|  184.6813725490196|\n",
            "|      LJ Wright| 184.31372549019608|\n",
            "|   Vishnu Vinod|              180.0|\n",
            "|       V Sehwag|  179.9689440993789|\n",
            "|         MM Ali| 175.15151515151516|\n",
            "|     I Malhotra|              175.0|\n",
            "|   TU Deshpande|              175.0|\n",
            "|      LPC Silva| 173.68421052631578|\n",
            "|    Abdul Samad| 172.30769230769232|\n",
            "|    BCJ Cutting| 171.63120567375887|\n",
            "|    YV Takawale| 171.11111111111111|\n",
            "|      KK Cooper| 170.76923076923077|\n",
            "|       CH Gayle| 170.62031356509885|\n",
            "|       N Pooran|   170.446735395189|\n",
            "+---------------+-------------------+\n",
            "only showing top 20 rows\n",
            "\n"
          ]
        }
      ]
    },
    {
      "cell_type": "markdown",
      "source": [
        "## 5. Write a query to return a report for highest extra runs in a venue (stadium, city).\n"
      ],
      "metadata": {
        "id": "brIRmIsJam0Y"
      }
    },
    {
      "cell_type": "code",
      "source": [
        "spark.sql(\"\"\"SELECT V.venue, V.city,SUM(B.extra_runs) highest_extra_runs \n",
        "FROM ipl_venue V JOIN ipl_matches M JOIN ipl_ball_by_ball B\n",
        "ON V.venue_id=M.venue_id AND M.match_id=B.match_id \n",
        "GROUP BY V.venue,V.city \n",
        "ORDER BY highest_extra_runs DESC\"\"\").show()"
      ],
      "metadata": {
        "colab": {
          "base_uri": "https://localhost:8080/"
        },
        "id": "iy48M8sC-SpD",
        "outputId": "d43fb10d-9450-4510-bc01-c3db2423f861"
      },
      "execution_count": 26,
      "outputs": [
        {
          "output_type": "stream",
          "name": "stdout",
          "text": [
            "+--------------------+----------+------------------+\n",
            "|               venue|      city|highest_extra_runs|\n",
            "+--------------------+----------+------------------+\n",
            "|M.Chinnaswamy Sta...| Bengaluru|              1355|\n",
            "|    Wankhede Stadium|    Mumbai|              1232|\n",
            "|        Eden Gardens|   Kolkata|              1215|\n",
            "|    Feroz Shah Kotla|     Delhi|              1114|\n",
            "|MA Chidambaram St...|   Chennai|               905|\n",
            "|Rajiv Gandhi Inte...| Hyderabad|               900|\n",
            "|Sawai Mansingh St...|    Jaipur|               791|\n",
            "|Punjab Cricket As...|Chandigarh|               566|\n",
            "|Dubai Internation...|     Dubai|               492|\n",
            "|Sheikh Zayed Stadium| Abu Dhabi|               387|\n",
            "|Dr DY Patil Sport...|    Mumbai|               320|\n",
            "|Maharashtra Crick...|      Pune|               315|\n",
            "|Sharjah Cricket S...|   Sharjah|               287|\n",
            "|           Kingsmead|    Durban|               277|\n",
            "|Punjab Cricket As...|Chandigarh|               271|\n",
            "|   Brabourne Stadium|    Mumbai|               246|\n",
            "|Subrata Roy Sahar...|      Pune|               237|\n",
            "|     SuperSport Park| Centurion|               213|\n",
            "|Himachal Pradesh ...|Dharamsala|               177|\n",
            "|Sardar Patel Stad...| Ahmedabad|               175|\n",
            "+--------------------+----------+------------------+\n",
            "only showing top 20 rows\n",
            "\n"
          ]
        }
      ]
    },
    {
      "cell_type": "markdown",
      "source": [
        "## 6. Write a query to return a report for the cricketers with the most number of players of the match award in neutral venues"
      ],
      "metadata": {
        "id": "Uv_qvGsibCT1"
      }
    },
    {
      "cell_type": "code",
      "source": [
        "spark.sql(\"\"\"SELECT M.player_of_match,count(*) total_player_of_match_award from ipl_matches AS M\n",
        "WHERE M.neutral_venue=1 \n",
        "GROUP BY M.player_of_match \n",
        "ORDER BY total_player_of_match_award DESC\"\"\").show()"
      ],
      "metadata": {
        "colab": {
          "base_uri": "https://localhost:8080/"
        },
        "id": "YMKrt6xSF2Rb",
        "outputId": "af42f890-1bff-4413-ea33-44ba99c9d10b"
      },
      "execution_count": 27,
      "outputs": [
        {
          "output_type": "stream",
          "name": "stdout",
          "text": [
            "+----------------+---------------------------+\n",
            "| player_of_match|total_player_of_match_award|\n",
            "+----------------+---------------------------+\n",
            "|       JH Kallis|                          3|\n",
            "|       JP Duminy|                          3|\n",
            "|       YK Pathan|                          3|\n",
            "|      GJ Maxwell|                          3|\n",
            "|        DR Smith|                          2|\n",
            "|   KC Sangakkara|                          2|\n",
            "|       MK Pandey|                          2|\n",
            "|       RG Sharma|                          2|\n",
            "|  Sandeep Sharma|                          2|\n",
            "|DPMD Jayawardene|                          2|\n",
            "|  M Muralitharan|                          2|\n",
            "|     LRPL Taylor|                          2|\n",
            "|        SK Raina|                          2|\n",
            "|    Yuvraj Singh|                          2|\n",
            "|       ML Hayden|                          2|\n",
            "|    SR Tendulkar|                          2|\n",
            "|    AC Gilchrist|                          2|\n",
            "|  AB de Villiers|                          2|\n",
            "|      TM Dilshan|                          1|\n",
            "|           B Lee|                          1|\n",
            "+----------------+---------------------------+\n",
            "only showing top 20 rows\n",
            "\n"
          ]
        }
      ]
    },
    {
      "cell_type": "markdown",
      "source": [
        "## 7. Write a query to get a list of top 10 players with the highest batting average Note: Batting average is the total number of runs scored divided by the number of times they have been out (Make sure to include run outs (on non-striker end) as valid out while calculating average)."
      ],
      "metadata": {
        "id": "7jowFPK-bLfO"
      }
    },
    {
      "cell_type": "code",
      "source": [
        "spark.sql(\"\"\"SELECT T_runs.batsman,T_runs.total_run/T_outs.Total_outs highest_batting_avg FROM \n",
        "(select B.batsman,SUM(B.batsman_runs) total_run\n",
        "FROM ipl_ball_by_ball B GROUP BY B.batsman) T_runs JOIN\n",
        "(select C.player_dismissed, COUNT(*) Total_outs\n",
        "FROM ipl_ball_by_ball C GROUP BY C.player_dismissed) T_outs\n",
        "ON T_runs.batsman=T_outs.player_dismissed\n",
        "ORDER BY highest_batting_avg DESC\"\"\").show()"
      ],
      "metadata": {
        "colab": {
          "base_uri": "https://localhost:8080/"
        },
        "id": "_OewiAwVIGDF",
        "outputId": "bc994182-fd5b-4a24-a847-a13477d9690a"
      },
      "execution_count": 28,
      "outputs": [
        {
          "output_type": "stream",
          "name": "stdout",
          "text": [
            "+--------------+-------------------+\n",
            "|       batsman|highest_batting_avg|\n",
            "+--------------+-------------------+\n",
            "|    MN van Wyk| 55.666666666666664|\n",
            "|    RD Gaikwad|               51.0|\n",
            "|      AC Voges|              45.25|\n",
            "|      KL Rahul|  44.86440677966102|\n",
            "|       HM Amla|  44.38461538461539|\n",
            "| Iqbal Abdulla|               44.0|\n",
            "|     DA Warner|  42.71544715447155|\n",
            "|   JM Bairstow| 41.578947368421055|\n",
            "|      CH Gayle|  41.13793103448276|\n",
            "|      MS Dhoni| 40.991150442477874|\n",
            "|PD Collingwood|               40.6|\n",
            "|AB de Villiers|  40.40833333333333|\n",
            "|   LMP Simmons|  39.96296296296296|\n",
            "|      SE Marsh|  39.95161290322581|\n",
            "|     JP Duminy|  39.78431372549019|\n",
            "| KS Williamson|  39.48780487804878|\n",
            "|    MEK Hussey|  38.76470588235294|\n",
            "|       V Kohli|  38.16883116883117|\n",
            "|     ML Hayden|               36.9|\n",
            "|     A Symonds| 36.074074074074076|\n",
            "+--------------+-------------------+\n",
            "only showing top 20 rows\n",
            "\n"
          ]
        }
      ]
    },
    {
      "cell_type": "markdown",
      "source": [
        "## 8. Write a query to find out who has officiated (as an umpire) the most number of matches in IPL"
      ],
      "metadata": {
        "id": "r5XEkuGQbRyc"
      }
    },
    {
      "cell_type": "code",
      "source": [
        "spark.sql(\"\"\"SELECT matches.umpire,COUNT(*) No_of_matches FROM \n",
        "((SELECT A.umpire1 as umpire from ipl_matches A) UNION ALL (SELECT B.umpire2 as umpire from ipl_matches B)) matches\n",
        "GROUP BY matches.umpire\n",
        "ORDER BY No_of_matches DESC\"\"\").show()"
      ],
      "metadata": {
        "colab": {
          "base_uri": "https://localhost:8080/"
        },
        "id": "n0hZUHN3jxDZ",
        "outputId": "996e29c0-1065-4bd5-bb6e-896778e7bd5f"
      },
      "execution_count": 29,
      "outputs": [
        {
          "output_type": "stream",
          "name": "stdout",
          "text": [
            "+--------------------+-------------+\n",
            "|              umpire|No_of_matches|\n",
            "+--------------------+-------------+\n",
            "|              S Ravi|          121|\n",
            "|     HDPK Dharmasena|           94|\n",
            "|        AK Chaudhary|           87|\n",
            "|       C Shamshuddin|           82|\n",
            "|           M Erasmus|           65|\n",
            "|         Nitin Menon|           57|\n",
            "|           CK Nandan|           57|\n",
            "|          SJA Taufel|           55|\n",
            "|           Asad Rauf|           51|\n",
            "|         VA Kulkarni|           50|\n",
            "|        BNJ Oxenford|           48|\n",
            "|         CB Gaffaney|           47|\n",
            "|           RJ Tucker|           46|\n",
            "|         BR Doctrove|           42|\n",
            "|         RE Koertzen|           41|\n",
            "|           Aleem Dar|           38|\n",
            "|            NJ Llong|           37|\n",
            "|           BF Bowden|           37|\n",
            "|KN Ananthapadmana...|           33|\n",
            "|      RK Illingworth|           31|\n",
            "+--------------------+-------------+\n",
            "only showing top 20 rows\n",
            "\n"
          ]
        }
      ]
    },
    {
      "cell_type": "markdown",
      "source": [
        "## 9. Find venue details of the match where V Kohli scored his highest individual runs in IPL"
      ],
      "metadata": {
        "id": "ozF5i4BjbadF"
      }
    },
    {
      "cell_type": "code",
      "source": [
        "spark.sql(\"\"\"SELECT M.match_id,V.venue,V.city,B.batsman,sum(B.batsman_runs) total_runs \n",
        "FROM ipl_ball_by_ball AS B JOIN ipl_matches M on B.match_id=M.match_id JOIN ipl_venue V on M.venue_id =V.venue_id\n",
        "WHERE B.batsman= 'V Kohli'\n",
        "GROUP BY M.match_id,V.venue,V.city,B.batsman\n",
        "ORDER BY total_runs DESC LIMIT 1\"\"\").show()"
      ],
      "metadata": {
        "colab": {
          "base_uri": "https://localhost:8080/"
        },
        "id": "t373sBlJo1aA",
        "outputId": "b7c10589-356e-4f90-e6a4-e8b3fc0ada80"
      },
      "execution_count": 30,
      "outputs": [
        {
          "output_type": "stream",
          "name": "stdout",
          "text": [
            "+--------+--------------------+---------+-------+----------+\n",
            "|match_id|               venue|     city|batsman|total_runs|\n",
            "+--------+--------------------+---------+-------+----------+\n",
            "|  980999|M.Chinnaswamy Sta...|Bengaluru|V Kohli|       113|\n",
            "+--------+--------------------+---------+-------+----------+\n",
            "\n"
          ]
        }
      ]
    },
    {
      "cell_type": "markdown",
      "source": [
        "## 10. Creative Case study: Please analyze how winning/losing tosses can impact a match and it's result?"
      ],
      "metadata": {
        "id": "HofAsw9Jbh9I"
      }
    },
    {
      "cell_type": "code",
      "source": [
        "import pandas as pd\n",
        "import seaborn as sns\n",
        "import numpy as np\n",
        "import matplotlib.pyplot as plt\n",
        "%matplotlib inline\n",
        "import warnings\n",
        "warnings.filterwarnings('ignore')\n",
        "sql_query = spark.sql('select * from ipl_matches')\n",
        "matches = sql_query.toPandas()"
      ],
      "metadata": {
        "id": "_BT0tJtSdf5N"
      },
      "execution_count": 31,
      "outputs": []
    },
    {
      "cell_type": "code",
      "source": [
        "matches['t_winner_m_winner']=np.where(matches['toss_winner']==matches['winner'], 1 ,0)"
      ],
      "metadata": {
        "id": "cq8fH1MFfaSY"
      },
      "execution_count": 32,
      "outputs": []
    },
    {
      "cell_type": "code",
      "source": [
        "ax=sns.countplot(x='t_winner_m_winner',data=matches)\n",
        "for p in ax.patches:\n",
        "   ax.annotate('{}'.format(p.get_height()), (p.get_x()+0.35, p.get_height()+0.02))\n",
        "plt.show()"
      ],
      "metadata": {
        "colab": {
          "base_uri": "https://localhost:8080/",
          "height": 280
        },
        "id": "OUwwjmYngn9c",
        "outputId": "2f869f02-a4cf-4527-f10b-e3dc759b54ab"
      },
      "execution_count": 33,
      "outputs": [
        {
          "output_type": "display_data",
          "data": {
            "text/plain": [
              "<Figure size 432x288 with 1 Axes>"
            ],
            "image/png": "[encoded data removed]"
          },
          "metadata": {
            "needs_background": "light"
          }
        }
      ]
    },
    {
      "cell_type": "markdown",
      "source": [
        "The chances of winning a match on winning the toss is 51 percent and chance of losing a match on winning the toss is 49 percent. Both the chances are equally probable."
      ],
      "metadata": {
        "id": "2ouyylSfK2sV"
      }
    },
    {
      "cell_type": "markdown",
      "source": [
        "### RCB winning the toss"
      ],
      "metadata": {
        "id": "N9tArH-ziaFJ"
      }
    },
    {
      "cell_type": "code",
      "source": [
        "RCB_matches=matches[(matches['team1']=='Royal Challengers Bangalore') | (matches['team2']=='Royal Challengers Bangalore')]\n",
        "RCB_matches=RCB_matches[RCB_matches['toss_winner']=='Royal Challengers Bangalore']\n",
        "RCB_matches['t_winner_m_winner']=np.where(RCB_matches['winner']=='Royal Challengers Bangalore', 1 ,0)\n",
        "ax=sns.countplot(x='t_winner_m_winner',data=RCB_matches)\n",
        "for p in ax.patches:\n",
        "   ax.annotate('{}'.format(p.get_height()), (p.get_x()+0.35, p.get_height()+0.02))\n",
        "plt.show()"
      ],
      "metadata": {
        "colab": {
          "base_uri": "https://localhost:8080/",
          "height": 280
        },
        "id": "qFY0rMVuCRpR",
        "outputId": "d6dc4376-8b28-4807-ea38-2424b31db10a"
      },
      "execution_count": 34,
      "outputs": [
        {
          "output_type": "display_data",
          "data": {
            "text/plain": [
              "<Figure size 432x288 with 1 Axes>"
            ],
            "image/png": "[encoded data removed]"
          },
          "metadata": {
            "needs_background": "light"
          }
        }
      ]
    },
    {
      "cell_type": "markdown",
      "source": [
        "### RCB losing the toss"
      ],
      "metadata": {
        "id": "aFYy0E4wi-1H"
      }
    },
    {
      "cell_type": "code",
      "source": [
        "RCB_matches=matches[(matches['team1']=='Royal Challengers Bangalore') | (matches['team2']=='Royal Challengers Bangalore')]\n",
        "RCB_matches=RCB_matches[RCB_matches['toss_winner']!='Royal Challengers Bangalore']\n",
        "RCB_matches['t_loser_m_winner']=np.where(RCB_matches['winner']=='Royal Challengers Bangalore', 1 ,0)\n",
        "ax=sns.countplot(x='t_loser_m_winner',data=RCB_matches)\n",
        "for p in ax.patches:\n",
        "   ax.annotate('{}'.format(p.get_height()), (p.get_x()+0.35, p.get_height()+0.02))\n",
        "plt.show()"
      ],
      "metadata": {
        "colab": {
          "base_uri": "https://localhost:8080/",
          "height": 280
        },
        "id": "qKnBb-h9fDy6",
        "outputId": "72d0a14a-314d-4a4a-9c69-8d2c8145c82b"
      },
      "execution_count": 35,
      "outputs": [
        {
          "output_type": "display_data",
          "data": {
            "text/plain": [
              "<Figure size 432x288 with 1 Axes>"
            ],
            "image/png": "[encoded data removed]"
          },
          "metadata": {
            "needs_background": "light"
          }
        }
      ]
    },
    {
      "cell_type": "markdown",
      "source": [
        "In case RCB wins the toss the chance of winning the game and losing the game is equally proportional and in case RCB losses the toss than the chances of losing the game is more than winning the game."
      ],
      "metadata": {
        "id": "9GEGQf9ttS6T"
      }
    },
    {
      "cell_type": "markdown",
      "source": [
        "### MI winning the toss"
      ],
      "metadata": {
        "id": "kfnvuKOvjDGi"
      }
    },
    {
      "cell_type": "code",
      "source": [
        "MI_matches=matches[(matches['team1']=='Mumbai Indians') | (matches['team2']=='Mumbai Indians')]\n",
        "MI_matches=MI_matches[MI_matches['toss_winner']=='Mumbai Indians']\n",
        "MI_matches['t_winner_m_winner']=np.where(MI_matches['winner']=='Mumbai Indians', 1 ,0)\n",
        "ax=sns.countplot(x='t_winner_m_winner',data=MI_matches)\n",
        "for p in ax.patches:\n",
        "   ax.annotate('{}'.format(p.get_height()), (p.get_x()+0.35, p.get_height()+0.02))\n",
        "plt.show()"
      ],
      "metadata": {
        "colab": {
          "base_uri": "https://localhost:8080/",
          "height": 280
        },
        "id": "sh10faxDNKCc",
        "outputId": "39920b76-5f0f-4d40-c537-1f32e14d2bb2"
      },
      "execution_count": 36,
      "outputs": [
        {
          "output_type": "display_data",
          "data": {
            "text/plain": [
              "<Figure size 432x288 with 1 Axes>"
            ],
            "image/png": "[encoded data removed]"
          },
          "metadata": {
            "needs_background": "light"
          }
        }
      ]
    },
    {
      "cell_type": "markdown",
      "source": [
        "### MI losing the toss"
      ],
      "metadata": {
        "id": "nXA0qcafjIzH"
      }
    },
    {
      "cell_type": "code",
      "source": [
        "MI_matches=matches[(matches['team1']=='Mumbai Indians') | (matches['team2']=='Mumbai Indians')]\n",
        "MI_matches=MI_matches[MI_matches['toss_winner']!='Mumbai Indians']\n",
        "MI_matches['t_loser_m_winner']=np.where(MI_matches['winner']=='Mumbai Indians', 1 ,0)\n",
        "ax=sns.countplot(x='t_loser_m_winner',data=MI_matches)\n",
        "for p in ax.patches:\n",
        "   ax.annotate('{}'.format(p.get_height()), (p.get_x()+0.35, p.get_height()+0.02))\n",
        "plt.show()"
      ],
      "metadata": {
        "colab": {
          "base_uri": "https://localhost:8080/",
          "height": 280
        },
        "id": "DNmsya4eh6YF",
        "outputId": "6fe194eb-d0b6-4e97-832f-fd77a8e99633"
      },
      "execution_count": 37,
      "outputs": [
        {
          "output_type": "display_data",
          "data": {
            "text/plain": [
              "<Figure size 432x288 with 1 Axes>"
            ],
            "image/png": "[encoded data removed]"
          },
          "metadata": {
            "needs_background": "light"
          }
        }
      ]
    },
    {
      "cell_type": "markdown",
      "source": [
        "In both the case of winning the toss or losing the toss, the chance of winning the game is more for MI"
      ],
      "metadata": {
        "id": "WQYbE6hlvRkV"
      }
    },
    {
      "cell_type": "markdown",
      "source": [
        "### CSK winning the toss"
      ],
      "metadata": {
        "id": "TJc1Xy6gjiqT"
      }
    },
    {
      "cell_type": "code",
      "source": [
        "CSK_matches=matches[(matches['team1']=='Chennai Super Kings') | (matches['team2']=='Chennai Super Kings')]\n",
        "CSK_matches=CSK_matches[CSK_matches['toss_winner']=='Chennai Super Kings']\n",
        "CSK_matches['t_winner_m_winner']=np.where(CSK_matches['winner']=='Chennai Super Kings', 1 ,0)\n",
        "ax=sns.countplot(x='t_winner_m_winner',data=CSK_matches)\n",
        "for p in ax.patches:\n",
        "   ax.annotate('{}'.format(p.get_height()), (p.get_x()+0.35, p.get_height()+0.02))\n",
        "plt.show()"
      ],
      "metadata": {
        "colab": {
          "base_uri": "https://localhost:8080/",
          "height": 280
        },
        "id": "ZZbNP7SwOY1K",
        "outputId": "161b77c1-1990-48f6-a5c8-98b73926a1fd"
      },
      "execution_count": 38,
      "outputs": [
        {
          "output_type": "display_data",
          "data": {
            "text/plain": [
              "<Figure size 432x288 with 1 Axes>"
            ],
            "image/png": "[encoded data removed]"
          },
          "metadata": {
            "needs_background": "light"
          }
        }
      ]
    },
    {
      "cell_type": "markdown",
      "source": [
        "### CSK losing the toss"
      ],
      "metadata": {
        "id": "MJF2G_a4jnXj"
      }
    },
    {
      "cell_type": "code",
      "source": [
        "CSK_matches=matches[(matches['team1']=='Chennai Super Kings') | (matches['team2']=='Chennai Super Kings')]\n",
        "CSK_matches=CSK_matches[CSK_matches['toss_winner']!='Chennai Super Kings']\n",
        "CSK_matches['t_loser_m_winner']=np.where(CSK_matches['winner']=='Chennai Super Kings', 1 ,0)\n",
        "ax=sns.countplot(x='t_loser_m_winner',data=CSK_matches)\n",
        "for p in ax.patches:\n",
        "   ax.annotate('{}'.format(p.get_height()), (p.get_x()+0.35, p.get_height()+0.02))\n",
        "plt.show()"
      ],
      "metadata": {
        "colab": {
          "base_uri": "https://localhost:8080/",
          "height": 280
        },
        "id": "35b9bcJyRh1M",
        "outputId": "1f292d54-51af-493f-f812-818884ef15c1"
      },
      "execution_count": 39,
      "outputs": [
        {
          "output_type": "display_data",
          "data": {
            "text/plain": [
              "<Figure size 432x288 with 1 Axes>"
            ],
            "image/png": "[encoded data removed]"
          },
          "metadata": {
            "needs_background": "light"
          }
        }
      ]
    },
    {
      "cell_type": "markdown",
      "source": [
        "In both the case of winning the toss or losing the toss, the chance of winning the game is more for CSK"
      ],
      "metadata": {
        "id": "AaxegVlij7Yw"
      }
    },
    {
      "cell_type": "markdown",
      "source": [
        "**Thus we can concluse that winning or losing the toss is not really having any impact on the winning or losing the game.**"
      ],
      "metadata": {
        "id": "PqXXdZa5V1v1"
      }
    },
    {
      "cell_type": "markdown",
      "source": [
        "# Section 3:"
      ],
      "metadata": {
        "id": "v7X_OZCkxVna"
      }
    },
    {
      "cell_type": "code",
      "source": [
        "import sqlite3\n",
        "  \n",
        "# Connect to SQLite database\n",
        "conn = sqlite3.connect('IPL.db')\n",
        "\n",
        "#Read datasets\n",
        "ipl_matches=pd.read_csv('ipl_matches.csv')\n",
        "ipl_ball_by_ball=pd.read_csv('ipl_ball_by_ball.csv')\n",
        "ipl_venue=pd.read_csv('ipl_venue.csv')\n",
        "\n",
        "# Write the data to a sqlite table\n",
        "ipl_matches.to_sql('ipl_matches', conn, if_exists='replace', index=False)\n",
        "ipl_ball_by_ball.to_sql('ipl_ball_by_ball', conn, if_exists='replace', index=False)\n",
        "ipl_venue.to_sql('ipl_venue', conn, if_exists='replace', index=False)"
      ],
      "metadata": {
        "id": "340Hgj6pxV6Y"
      },
      "execution_count": 40,
      "outputs": []
    },
    {
      "cell_type": "code",
      "source": [
        "tables = pd.read_sql_query(\"SELECT NAME AS 'Table_Name' FROM sqlite_master WHERE type='table'\",conn)\n",
        "tables = tables[\"Table_Name\"].values.tolist()"
      ],
      "metadata": {
        "id": "Lgox6iUCxj33"
      },
      "execution_count": 41,
      "outputs": []
    },
    {
      "cell_type": "code",
      "source": [
        "print(tables)"
      ],
      "metadata": {
        "colab": {
          "base_uri": "https://localhost:8080/"
        },
        "id": "6fZnATFO1Eso",
        "outputId": "e978fab5-d444-4678-c941-3769f91774cb"
      },
      "execution_count": 42,
      "outputs": [
        {
          "output_type": "stream",
          "name": "stdout",
          "text": [
            "['ipl_matches', 'ipl_ball_by_ball', 'ipl_venue']\n"
          ]
        }
      ]
    },
    {
      "cell_type": "code",
      "source": [
        "class Database():\n",
        "  \n",
        "  def __init__(self):\n",
        "    self.conn = sqlite3.connect('IPL.db')\n",
        "\n",
        "  def get_query1_result(self):\n",
        "    query=\"\"\"SELECT V.venue, COUNT(*) Eliminator_matches_count \n",
        "      FROM ipl_matches AS M JOIN ipl_venue AS V ON M.venue_id=V.venue_id WHERE M.eliminator='Y'\n",
        "      GROUP BY V.venue ORDER BY Eliminator_matches_count DESC\"\"\"\n",
        "\n",
        "    query = pd.read_sql_query(query,self.conn)\n",
        "    query = query.to_dict('index')\n",
        "\n",
        "    return query \n",
        "\n",
        "  def get_query2_result(self):\n",
        "    query=\"\"\"SELECT B.fielder, Count(*) Total_no_of_catches FROM ipl_ball_by_ball B WHERE B.dismissal_kind='caught'\n",
        "      GROUP BY B.fielder ORDER BY Total_no_of_catches DESC\"\"\"\n",
        "\n",
        "    query = pd.read_sql_query(query,self.conn)\n",
        "    query = query.to_dict('index')\n",
        "\n",
        "    return query\n",
        "  \n",
        "  def get_query3_result(self):\n",
        "    query=\"\"\"SELECT CASE WHEN B.Fielder is Null THEN B.bowler ELSE B.Fielder END AS wicket_by,\n",
        "      COUNT(*) AS highest_wicket_count\n",
        "      FROM ipl_ball_by_ball AS B JOIN ipl_matches AS M ON B.match_id=M.match_id \n",
        "      WHERE M.method='D/L' AND B.is_wicket=1\n",
        "      GROUP BY wicket_by \n",
        "      ORDER BY highest_wicket_count DESC\"\"\"\n",
        "\n",
        "    query = pd.read_sql_query(query,self.conn)\n",
        "    query = query.to_dict('index')\n",
        "\n",
        "    return query\n",
        "  \n",
        "  def get_query4_result(self):\n",
        "    query=\"\"\"SELECT B.batsman,SUM(B.total_runs)*1.0/COUNT(B.batsman)*100 AS highest_strike_rate \n",
        "      FROM ipl_ball_by_ball AS B \n",
        "      WHERE B.overs>5 AND (B.extras_type is NULL OR B.extras_type is 'legbyes' OR B.extras_type is 'byes')\n",
        "      GROUP BY B.batsman\n",
        "      ORDER BY highest_strike_rate DESC\"\"\"\n",
        "\n",
        "    query = pd.read_sql_query(query,self.conn)\n",
        "    query = query.to_dict('index')\n",
        "\n",
        "    return query\n",
        "\n",
        "  def get_query5_result(self):\n",
        "    query=\"\"\"SELECT V.venue, V.city,SUM(B.extra_runs) highest_extra_runs \n",
        "      FROM ipl_venue V JOIN ipl_matches M JOIN ipl_ball_by_ball B\n",
        "      ON V.venue_id=M.venue_id AND M.match_id=B.match_id \n",
        "      GROUP BY V.venue,V.city \n",
        "      ORDER BY highest_extra_runs DESC\"\"\"\n",
        "\n",
        "    query = pd.read_sql_query(query,self.conn)\n",
        "    query = query.to_dict('index')\n",
        "\n",
        "    return query\n",
        "\n",
        "  def get_query6_result(self):\n",
        "    query=\"\"\"SELECT M.player_of_match,count(*) total_player_of_match_award \n",
        "      FROM ipl_matches AS M\n",
        "      WHERE M.neutral_venue=1 \n",
        "      GROUP BY M.player_of_match \n",
        "      ORDER BY total_player_of_match_award DESC\"\"\"\n",
        "\n",
        "    query = pd.read_sql_query(query,self.conn)\n",
        "    query = query.to_dict('index')\n",
        "\n",
        "    return query\n",
        "\n",
        "  def get_query7_result(self):\n",
        "    query=\"\"\"SELECT T_runs.batsman,T_runs.total_run*1.0/T_outs.Total_outs highest_batting_avg FROM \n",
        "      (select B.batsman,SUM(B.batsman_runs) total_run\n",
        "      FROM ipl_ball_by_ball B GROUP BY B.batsman) T_runs JOIN\n",
        "      (select C.player_dismissed, COUNT(*) Total_outs\n",
        "      FROM ipl_ball_by_ball C GROUP BY C.player_dismissed) T_outs\n",
        "      ON T_runs.batsman=T_outs.player_dismissed\n",
        "      ORDER BY highest_batting_avg DESC\"\"\"\n",
        "\n",
        "    query = pd.read_sql_query(query,self.conn)\n",
        "    query = query.to_dict('index')\n",
        "\n",
        "    return query\n",
        "\n",
        "  def get_query8_result(self):\n",
        "    query=\"\"\"SELECT matches.umpire,COUNT(*) No_of_matches \n",
        "      FROM (SELECT A.umpire1 as umpire from ipl_matches A UNION ALL SELECT B.umpire2 as umpire from ipl_matches B) matches\n",
        "      GROUP BY matches.umpire\n",
        "      ORDER BY No_of_matches DESC\"\"\"\n",
        "\n",
        "    query = pd.read_sql_query(query,self.conn)\n",
        "    query = query.to_dict('index')\n",
        "\n",
        "    return query\n",
        "\n",
        "  def get_query9_result(self):\n",
        "    query=\"\"\"SELECT M.match_id,V.venue,V.city,B.batsman,sum(B.batsman_runs) total_runs \n",
        "    FROM ipl_ball_by_ball AS B JOIN ipl_matches M on B.match_id=M.match_id JOIN ipl_venue V on M.venue_id =V.venue_id\n",
        "    WHERE B.batsman= 'V Kohli'\n",
        "    GROUP BY M.match_id,V.venue,V.city,B.batsman\n",
        "    ORDER BY total_runs DESC LIMIT 1\"\"\"\n",
        "\n",
        "    query = pd.read_sql_query(query,self.conn)\n",
        "    query = query.to_dict('index')\n",
        "\n",
        "    return query\n",
        "  \n",
        "  def get_status(self):\n",
        "    try:\n",
        "        self.conn.cursor()\n",
        "        return print('Database is conncected')\n",
        "    except Exception as ex:\n",
        "        return print('Database is not conncected')\n",
        "  \n",
        "  def close(self):\n",
        "    self.conn.close()"
      ],
      "metadata": {
        "id": "fweBuO7w3A9o"
      },
      "execution_count": 43,
      "outputs": []
    },
    {
      "cell_type": "code",
      "source": [
        "db=Database()"
      ],
      "metadata": {
        "id": "_zOjo08RAjz5"
      },
      "execution_count": 44,
      "outputs": []
    },
    {
      "cell_type": "code",
      "source": [
        "db.get_query9_result()"
      ],
      "metadata": {
        "colab": {
          "base_uri": "https://localhost:8080/"
        },
        "id": "Y3gKw1egAofo",
        "outputId": "bc7e8b46-0031-44f5-c31d-b87866e5b048"
      },
      "execution_count": 45,
      "outputs": [
        {
          "output_type": "execute_result",
          "data": {
            "text/plain": [
              "{0: {'batsman': 'V Kohli',\n",
              "  'city': 'Bengaluru',\n",
              "  'match_id': 980999,\n",
              "  'total_runs': 113,\n",
              "  'venue': 'M.Chinnaswamy Stadium'}}"
            ]
          },
          "metadata": {},
          "execution_count": 45
        }
      ]
    },
    {
      "cell_type": "code",
      "source": [
        "db.get_status()"
      ],
      "metadata": {
        "colab": {
          "base_uri": "https://localhost:8080/"
        },
        "id": "2dJP7jTUQRg7",
        "outputId": "059b74af-11a8-47a7-949f-5fdaf56fbbd9"
      },
      "execution_count": 46,
      "outputs": [
        {
          "output_type": "stream",
          "name": "stdout",
          "text": [
            "Database is conncected\n"
          ]
        }
      ]
    },
    {
      "cell_type": "code",
      "source": [
        "db.close()"
      ],
      "metadata": {
        "id": "7WF2FHa2O4bj"
      },
      "execution_count": 47,
      "outputs": []
    },
    {
      "cell_type": "code",
      "source": [
        "db.get_status()"
      ],
      "metadata": {
        "colab": {
          "base_uri": "https://localhost:8080/"
        },
        "id": "qLaDMfwnOsPn",
        "outputId": "44bd598d-908c-4bbc-8ec3-0559b194e45e"
      },
      "execution_count": 48,
      "outputs": [
        {
          "output_type": "stream",
          "name": "stdout",
          "text": [
            "Database is not conncected\n"
          ]
        }
      ]
    }
  ]
}